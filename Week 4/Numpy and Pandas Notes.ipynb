{
 "cells": [
  {
   "cell_type": "markdown",
   "metadata": {
    "collapsed": true
   },
   "source": [
    "### Pandas Code Functions"
   ]
  },
  {
   "cell_type": "code",
   "execution_count": null,
   "metadata": {},
   "outputs": [],
   "source": [
    "import pandas as pd\n",
    "df.head()\n",
    "pd.read_csv('path')\n",
    "pd.read_excel('path')\n",
    "pd.DataFrame(dictionary)\n",
    "df[[\"column name\"]]\n",
    "df.unique()\n",
    "# use conditional formatting to extract relevant data column\n",
    "pd.to_csv('filename.format')"
   ]
  },
  {
   "cell_type": "markdown",
   "metadata": {},
   "source": [
    "### Numpy Code Functions"
   ]
  },
  {
   "cell_type": "code",
   "execution_count": null,
   "metadata": {},
   "outputs": [],
   "source": [
    "import numpy as np\n",
    "np.array([])\n",
    "np.linspace()\n",
    ".ndarray\n",
    ".ndim\n",
    ".size\n",
    ".dtype\n",
    ".shape\n",
    ".dot\n",
    "# vector broadcasting\n",
    ".mean()\n",
    ".max()\n",
    ".sin()\n",
    ".pi"
   ]
  }
 ],
 "metadata": {
  "kernelspec": {
   "display_name": "Python 3.8",
   "language": "python",
   "name": "python3"
  },
  "language_info": {
   "codemirror_mode": {
    "name": "ipython",
    "version": 3
   },
   "file_extension": ".py",
   "mimetype": "text/x-python",
   "name": "python",
   "nbconvert_exporter": "python",
   "pygments_lexer": "ipython3",
   "version": "3.8.12"
  }
 },
 "nbformat": 4,
 "nbformat_minor": 1
}
